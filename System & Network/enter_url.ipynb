{
 "cells": [
  {
   "cell_type": "markdown",
   "metadata": {},
   "source": [
    "DNS Lookup  \n",
    "TCP/IP model  \n",
    "HTTP(S)/SSL/TLS/HSTS  \n",
    "Server side: Firewall, Load Balancer, Web Server, Application Server, Database  "
   ]
  },
  {
   "cell_type": "markdown",
   "metadata": {},
   "source": [
    "HSTS preload list  \n",
    "DNS: C/S structure, hierarchical, distributed;  \n",
    "\n",
    "DNS resolver: Local server with a central DB of DNS nameservers;  \n",
    "Root Servers;  \n",
    "Top-Level Domain(TLD): .com, .edu, .gov, etc.   \n",
    "Authoritative name servers;  \n",
    "\n",
    "There are multiple DNS servers at each level. Having redundancy ensures requests will still be processed if one of the servers fail.  "
   ]
  },
  {
   "cell_type": "markdown",
   "metadata": {},
   "source": [
    "TCP Model: 4 layers  \n",
    "Application/Transport/Internet/Data Access;  \n",
    "OSI Model: 7 Layers  \n",
    "Application/Representation/Session/Transport/Network/Data Link/Physical  \n",
    "\n",
    "\n",
    "(TCP Connection tuple):  \n",
    "1. Client IP address \n",
    "2. Client Port number \n",
    "3. Source IP address \n",
    "4. Source Port number  \n",
    "\n",
    "IP + port number = socket  \n",
    "Webserver default port 80, secured server port 443;  \n",
    "\n",
    "three-way handshake:  \n",
    "SYN, SYN-AWK, ACK;  \n",
    "\n",
    "SSL / TLS:  Security protocol that establishes a secure connection between a client and server.  \n",
    "HTTPS uses the same HTTP protocol but with an added SSL/TLS encryption.  \n",
    "\n",
    "HTTP GET:  \n"
   ]
  }
 ],
 "metadata": {
  "kernelspec": {
   "display_name": "Python 3",
   "language": "python",
   "name": "python3"
  },
  "language_info": {
   "codemirror_mode": {
    "name": "ipython",
    "version": 3
   },
   "file_extension": ".py",
   "mimetype": "text/x-python",
   "name": "python",
   "nbconvert_exporter": "python",
   "pygments_lexer": "ipython3",
   "version": "3.6.8"
  }
 },
 "nbformat": 4,
 "nbformat_minor": 2
}
